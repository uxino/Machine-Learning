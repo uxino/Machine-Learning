{
 "cells": [
  {
   "cell_type": "markdown",
   "id": "0309245b",
   "metadata": {},
   "source": [
    "# Linear Regression"
   ]
  },
  {
   "cell_type": "code",
   "execution_count": 1,
   "id": "78a6e6e4",
   "metadata": {},
   "outputs": [],
   "source": [
    "import numpy as np\n",
    "import pandas as pd\n",
    "import matplotlib.pyplot as plt"
   ]
  },
  {
   "cell_type": "markdown",
   "id": "f540200d",
   "metadata": {},
   "source": [
    "### import Data // Veriyi yükleme"
   ]
  },
  {
   "cell_type": "code",
   "execution_count": 2,
   "id": "26bd7d46",
   "metadata": {},
   "outputs": [],
   "source": [
    "df = pd.read_csv(\"linear-regression-dataset.csv\",sep=\";\")"
   ]
  },
  {
   "cell_type": "code",
   "execution_count": 3,
   "id": "2319517d",
   "metadata": {},
   "outputs": [
    {
     "data": {
      "text/html": [
       "<div>\n",
       "<style scoped>\n",
       "    .dataframe tbody tr th:only-of-type {\n",
       "        vertical-align: middle;\n",
       "    }\n",
       "\n",
       "    .dataframe tbody tr th {\n",
       "        vertical-align: top;\n",
       "    }\n",
       "\n",
       "    .dataframe thead th {\n",
       "        text-align: right;\n",
       "    }\n",
       "</style>\n",
       "<table border=\"1\" class=\"dataframe\">\n",
       "  <thead>\n",
       "    <tr style=\"text-align: right;\">\n",
       "      <th></th>\n",
       "      <th>deneyim</th>\n",
       "      <th>maas</th>\n",
       "    </tr>\n",
       "  </thead>\n",
       "  <tbody>\n",
       "    <tr>\n",
       "      <th>0</th>\n",
       "      <td>0.5</td>\n",
       "      <td>2500</td>\n",
       "    </tr>\n",
       "    <tr>\n",
       "      <th>1</th>\n",
       "      <td>0.0</td>\n",
       "      <td>2250</td>\n",
       "    </tr>\n",
       "    <tr>\n",
       "      <th>2</th>\n",
       "      <td>1.0</td>\n",
       "      <td>2750</td>\n",
       "    </tr>\n",
       "    <tr>\n",
       "      <th>3</th>\n",
       "      <td>5.0</td>\n",
       "      <td>8000</td>\n",
       "    </tr>\n",
       "    <tr>\n",
       "      <th>4</th>\n",
       "      <td>8.0</td>\n",
       "      <td>9000</td>\n",
       "    </tr>\n",
       "  </tbody>\n",
       "</table>\n",
       "</div>"
      ],
      "text/plain": [
       "   deneyim  maas\n",
       "0      0.5  2500\n",
       "1      0.0  2250\n",
       "2      1.0  2750\n",
       "3      5.0  8000\n",
       "4      8.0  9000"
      ]
     },
     "execution_count": 3,
     "metadata": {},
     "output_type": "execute_result"
    }
   ],
   "source": [
    "# deneyim = experience\n",
    "# maas = salary , there are turkish words in this csv file\n",
    "df.head()"
   ]
  },
  {
   "cell_type": "markdown",
   "id": "ea3c16d4",
   "metadata": {},
   "source": [
    "### plot data"
   ]
  },
  {
   "cell_type": "code",
   "execution_count": 4,
   "id": "e11cf843",
   "metadata": {},
   "outputs": [
    {
     "data": {
      "image/png": "[encoded data removed]",
      "text/plain": [
       "<Figure size 640x480 with 1 Axes>"
      ]
     },
     "metadata": {},
     "output_type": "display_data"
    }
   ],
   "source": [
    "plt.scatter(df.deneyim,df.maas)\n",
    "plt.xlabel(\"Experience\")\n",
    "plt.ylabel(\"Salary\")\n",
    "plt.show()"
   ]
  },
  {
   "cell_type": "markdown",
   "id": "2bf4c25d",
   "metadata": {},
   "source": [
    "### sklearn"
   ]
  },
  {
   "cell_type": "code",
   "execution_count": 5,
   "id": "814c7190",
   "metadata": {},
   "outputs": [
    {
     "data": {
      "text/plain": [
       "(14,)"
      ]
     },
     "execution_count": 5,
     "metadata": {},
     "output_type": "execute_result"
    }
   ],
   "source": [
    "df.deneyim.shape"
   ]
  },
  {
   "cell_type": "code",
   "execution_count": 6,
   "id": "aec09609",
   "metadata": {},
   "outputs": [
    {
     "data": {
      "text/plain": [
       "LinearRegression()"
      ]
     },
     "execution_count": 6,
     "metadata": {},
     "output_type": "execute_result"
    }
   ],
   "source": [
    "#sklearn doesnt understand like this shape (14,)\n",
    "#we have to change the shape if we want to use sklearn\n",
    "\n",
    "from sklearn.linear_model import LinearRegression\n",
    "\n",
    "# linear regression model\n",
    "linear_reg = LinearRegression()\n",
    "x = df.deneyim.values.reshape(-1,1)\n",
    "y = df.maas.values.reshape(-1,1)\n",
    "linear_reg.fit(x,y)"
   ]
  },
  {
   "cell_type": "code",
   "execution_count": 7,
   "id": "f1e1251e",
   "metadata": {},
   "outputs": [
    {
     "data": {
      "text/plain": [
       "(14, 1)"
      ]
     },
     "execution_count": 7,
     "metadata": {},
     "output_type": "execute_result"
    }
   ],
   "source": [
    "x.shape"
   ]
  },
  {
   "cell_type": "markdown",
   "id": "3a1567d0",
   "metadata": {},
   "source": [
    "### prediction "
   ]
  },
  {
   "cell_type": "code",
   "execution_count": 8,
   "id": "e4916000",
   "metadata": {},
   "outputs": [
    {
     "name": "stdout",
     "output_type": "stream",
     "text": [
      "b0:  [[1663.89519747]]\n"
     ]
    }
   ],
   "source": [
    "b0 = linear_reg.predict([[0]])\n",
    "print(\"b0: \",b0)"
   ]
  },
  {
   "cell_type": "code",
   "execution_count": 9,
   "id": "e9576962",
   "metadata": {},
   "outputs": [
    {
     "name": "stdout",
     "output_type": "stream",
     "text": [
      "b0_:  [1663.89519747]\n"
     ]
    }
   ],
   "source": [
    "# we can find the same result with different way \n",
    "b0_ = linear_reg.intercept_ # the point that intersects y-axis\n",
    "print(\"b0_: \",b0_)"
   ]
  },
  {
   "cell_type": "code",
   "execution_count": 10,
   "id": "7cc4be39",
   "metadata": {},
   "outputs": [
    {
     "name": "stdout",
     "output_type": "stream",
     "text": [
      "b1:  [[1138.34819698]]\n"
     ]
    }
   ],
   "source": [
    "b1 = linear_reg.coef_ # slope\n",
    "print(\"b1: \",b1) "
   ]
  },
  {
   "cell_type": "code",
   "execution_count": 11,
   "id": "aa78afe7",
   "metadata": {},
   "outputs": [
    {
     "data": {
      "image/png": "[encoded data removed]",
      "text/plain": [
       "<Figure size 640x480 with 1 Axes>"
      ]
     },
     "metadata": {},
     "output_type": "display_data"
    }
   ],
   "source": [
    "array = np.array([0,1,2,3,4,5,6,7,8,9,10,11,12,13,14,15]).reshape(-1,1)\n",
    "plt.scatter(x,y)\n",
    "y_head = linear_reg.predict(array)\n",
    "plt.plot(array,y_head,color=\"red\")\n",
    "plt.show()"
   ]
  },
  {
   "cell_type": "code",
   "execution_count": 12,
   "id": "dfc4a058",
   "metadata": {},
   "outputs": [
    {
     "data": {
      "text/plain": [
       "array([[115498.71489503]])"
      ]
     },
     "execution_count": 12,
     "metadata": {},
     "output_type": "execute_result"
    }
   ],
   "source": [
    "linear_reg.predict([[100]]) # example: a man who has 100 years experience earns 115K dolar"
   ]
  }
 ],
 "metadata": {
  "kernelspec": {
   "display_name": "Python 3 (ipykernel)",
   "language": "python",
   "name": "python3"
  },
  "language_info": {
   "codemirror_mode": {
    "name": "ipython",
    "version": 3
   },
   "file_extension": ".py",
   "mimetype": "text/x-python",
   "name": "python",
   "nbconvert_exporter": "python",
   "pygments_lexer": "ipython3",
   "version": "3.9.13"
  }
 },
 "nbformat": 4,
 "nbformat_minor": 5
}
